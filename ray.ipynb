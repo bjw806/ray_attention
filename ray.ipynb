{
 "cells": [
  {
   "cell_type": "code",
   "execution_count": null,
   "id": "initial_id",
   "metadata": {
    "ExecuteTime": {
     "end_time": "2024-03-14T06:30:53.295303400Z",
     "start_time": "2024-03-14T06:30:47.841350100Z"
    }
   },
   "outputs": [],
   "source": [
    "import warnings\n",
    "import ray\n",
    "from environment import MultiDatasetDiscretedTradingEnv"
   ]
  },
  {
   "cell_type": "code",
   "execution_count": null,
   "id": "34eaee70e65df757",
   "metadata": {
    "collapsed": false,
    "jupyter": {
     "outputs_hidden": false
    }
   },
   "outputs": [],
   "source": [
    "ray.init(\n",
    "    dashboard_host=\"0.0.0.0\",\n",
    "    include_dashboard=True,\n",
    "    # log_to_driver=False\n",
    ")"
   ]
  },
  {
   "cell_type": "code",
   "execution_count": null,
   "id": "51a96ccf",
   "metadata": {},
   "outputs": [],
   "source": [
    "# Preprocess\n",
    "import numpy as np\n",
    "import pandas as pd\n",
    "from sklearn.preprocessing import robust_scale\n",
    "\n",
    "\n",
    "def SMA(df, ndays):\n",
    "    SMA = pd.Series(df.close.rolling(ndays).mean(), name=\"SMA_\" + str(ndays))\n",
    "    return SMA.astype(float).round(2)\n",
    "\n",
    "\n",
    "def BBANDS(df, n):\n",
    "    MA = df.close.rolling(window=n).mean()\n",
    "    SD = df.close.rolling(window=n).std()\n",
    "    upperBand = MA + (2 * SD)\n",
    "    lowerBand = MA - (2 * SD)\n",
    "    return upperBand.astype(float).round(2), lowerBand.astype(float).round(2)\n",
    "\n",
    "\n",
    "def RSI(df, periods=14):\n",
    "    close_delta = df.close.diff()\n",
    "    up = close_delta.clip(lower=0)\n",
    "    down = -1 * close_delta.clip(upper=0)\n",
    "    ma_up = up.ewm(com=periods - 1, adjust=True, min_periods=periods).mean()\n",
    "    ma_down = down.ewm(com=periods - 1, adjust=True, min_periods=periods).mean()\n",
    "\n",
    "    _rsi = ma_up / ma_down\n",
    "    return (100 - (100 / (1 + _rsi))).astype(float).round(2)\n",
    "\n",
    "\n",
    "def MACD(df):\n",
    "    k = df[\"close\"].ewm(span=12, adjust=False, min_periods=12).mean()\n",
    "    d = df[\"close\"].ewm(span=26, adjust=False, min_periods=26).mean()\n",
    "    macd = k - d\n",
    "    macd_s = macd.ewm(span=9, adjust=False, min_periods=9).mean()\n",
    "    macd_h = macd - macd_s\n",
    "    #return df.index.map(macd), df.index.map(macd_s), df.index.map(macd_h)\n",
    "    return macd.astype(float).round(2), macd_s.astype(float).round(2), macd_h.astype(float).round(2)\n",
    "\n",
    "\n",
    "def add_robust_features(df):\n",
    "    df[\"feature_close\"] = robust_scale(df.close.pct_change())\n",
    "    df[\"feature_open\"] = robust_scale(df.open/df.close)\n",
    "    df[\"feature_high\"] = robust_scale(df.high/df.close)\n",
    "    df[\"feature_low\"] = robust_scale(df.low/df.close)\n",
    "    df[\"feature_volume\"] = robust_scale(df.volume / df.volume.rolling(7*24).max())\n",
    "    df.dropna(inplace= True)\n",
    "    return df\n",
    "\n",
    "\n",
    "def normalize(df):\n",
    "    result = df.copy()\n",
    "    columns = [x for x in df.columns if \"feature\" in x]\n",
    "    for feature_name in columns:\n",
    "        max_value = df[feature_name].max()\n",
    "        min_value = df[feature_name].min()\n",
    "        result[feature_name] = (df[feature_name] - min_value) / (max_value - min_value)\n",
    "    return result\n",
    "\n",
    "\n",
    "def robust(df):\n",
    "    result = df.copy()\n",
    "    columns = [x for x in df.columns if \"feature\" in x]\n",
    "    for feature_name in columns:\n",
    "        result[feature_name] = robust_scale(df[feature_name])\n",
    "    return result\n",
    "\n",
    "\n",
    "def stochastic_fast_k(df, n=5):\n",
    "      fast_k = ((df.close - df.low.rolling(n).min()) / (df.high.rolling(n).max() - df.low.rolling(n).min())) * 100 \n",
    "      return fast_k \n",
    "\n",
    "\n",
    "def stochastic_slow_k(fast_k, n=3):\n",
    "    slow_k = fast_k.rolling(n).mean()  \n",
    "    return slow_k \n",
    "\n",
    "\n",
    "def stochastic_slow_d(slow_k, n=3):\n",
    "    slow_d = slow_k.rolling(n).mean() \n",
    "    return slow_d\n",
    "\n",
    "\n",
    "def OBV(df):\n",
    "    volume_diff = df.volume.diff()\n",
    "    direction = np.zeros(len(df))\n",
    "    direction[1:] = np.where(df.close[1:] > df.close[:-1].values, 1, -1)\n",
    "    direction[volume_diff == 0] = 0\n",
    "    obv = (volume_diff * direction).cumsum() \n",
    "    return obv.astype(float).round(2)\n",
    "\n",
    "\n",
    "def preprocess(df):\n",
    "    df[\"volume\"] = df.volume.astype(float).round(2)\n",
    "    df[\"feature_close\"] = df.close\n",
    "    df[\"feature_open\"] = df.open\n",
    "    df[\"feature_high\"] = df.high\n",
    "    df[\"feature_low\"] = df.low\n",
    "    df[\"feature_volume\"] = df.volume\n",
    "    df[\"feature_SMA_7\"] = SMA(df, 7)\n",
    "    df[\"feature_SMA_25\"] = SMA(df, 25)\n",
    "    df[\"feature_SMA_99\"] = SMA(df, 99)\n",
    "    df[\"feature_MiddleBand\"], df[\"feature_LowerBand\"] = BBANDS(df, 21)\n",
    "    df[\"feature_MACD\"], df[\"feature_MACD_S\"], df[\"feature_MACD_H\"] = MACD(df)\n",
    "    df = df.dropna()\n",
    "\n",
    "    df_robust = robust(df)\n",
    "\n",
    "    df_robust[\"feature_RSI_6\"] = RSI(df, periods=6)\n",
    "    df_robust[\"feature_RSI_12\"] = RSI(df, periods=12)\n",
    "    df_robust[\"feature_RSI_24\"] = RSI(df, periods=24)\n",
    "\n",
    "    return df_robust\n",
    "\n",
    "\n",
    "def only_sub_indicators(df):\n",
    "    # df['fast_k'] = stochastic_fast_k(df, 5)\n",
    "    # df['feature_slow_stochastic_k'] = stochastic_slow_k(df.fast_k, 3)\n",
    "    # df['feature_slow_stochastic_d'] = stochastic_slow_d(df.feature_slow_stochastic_k, 3)\n",
    "    # df[\"feature_OBV\"] = OBV(df)\n",
    "    df[\"feature_RSI_6\"] = RSI(df, periods=6)\n",
    "    df[\"feature_RSI_12\"] = RSI(df, periods=12)\n",
    "    df[\"feature_RSI_24\"] = RSI(df, periods=24)\n",
    "    df[\"feature_MACD\"], df[\"feature_MACD_S\"], df[\"feature_MACD_H\"] = MACD(df)\n",
    "    df = df.dropna()\n",
    "    \n",
    "    return df\n"
   ]
  },
  {
   "cell_type": "code",
   "execution_count": null,
   "id": "9c01b55b",
   "metadata": {},
   "outputs": [],
   "source": [
    "def reward_by_pnl(history):\n",
    "    if history[\"portfolio_valuation\", -1] <= 0:\n",
    "        return -1\n",
    "\n",
    "    prev_position = history[\"position\", -2]\n",
    "    curr_position = history[\"position\", -1]\n",
    "\n",
    "    if prev_position == curr_position:\n",
    "        return 0\n",
    "    else:\n",
    "        return  (history[\"portfolio_valuation\", -1] - history[\"entry_valuation\", -1]) /history[\"portfolio_valuation\", 0]"
   ]
  },
  {
   "cell_type": "code",
   "execution_count": null,
   "id": "e5361c2059a40b9d",
   "metadata": {
    "collapsed": false,
    "jupyter": {
     "outputs_hidden": false
    }
   },
   "outputs": [],
   "source": [
    "from ray import tune\n",
    "import gymnasium as gym\n",
    "\n",
    "def env_creator(ctx):\n",
    "    env = MultiDatasetDiscretedTradingEnv(**ctx)\n",
    "    return gym.wrappers.FlattenObservation(env)\n",
    "\n",
    "\n",
    "tune.register_env(\"MultiDatasetDiscretedTradingEnv_1\", env_creator)"
   ]
  },
  {
   "cell_type": "code",
   "execution_count": null,
   "id": "e60d17c57a85d6a1",
   "metadata": {
    "collapsed": false,
    "jupyter": {
     "outputs_hidden": false
    }
   },
   "outputs": [],
   "source": [
    "from ray.rllib.algorithms import PPOConfig\n",
    "warnings.filterwarnings(\"ignore\", category=DeprecationWarning)\n",
    "\n",
    "# Enviornment\n",
    "algo = PPOConfig().environment(\n",
    "    env=\"MultiDatasetDiscretedTradingEnv_1\",\n",
    "    disable_env_checking=True,\n",
    "    env_config=dict(\n",
    "        dataset_dir=\"./data/train/month/**/*.pkl\",\n",
    "        preprocess=only_sub_indicators,\n",
    "        reward_function=reward_by_pnl,\n",
    "        positions=[-5, -2, 0, 2, 5],\n",
    "        trading_fees=0.0001,\n",
    "        borrow_interest_rate=0.0003,\n",
    "        portfolio_initial_value=1000,\n",
    "        max_episode_duration=\"max\",  # 24 * 60,\n",
    "        verbose=2,\n",
    "        window_size=240,\n",
    "    ),\n",
    ").training(\n",
    "    model={\n",
    "        # \"use_lstm\": True,\n",
    "        \"use_attention\": True,\n",
    "    }\n",
    ").build()\n",
    "# .rollouts(\n",
    "#     num_rollout_workers=1,\n",
    "#     remote_worker_envs=False,\n",
    "# )\n",
    "# .resources(num_gpus=0)\n"
   ]
  },
  {
   "cell_type": "code",
   "execution_count": null,
   "id": "cb7510bd",
   "metadata": {},
   "outputs": [],
   "source": [
    "warnings.filterwarnings(\"ignore\", category=UserWarning)\n",
    "warnings.simplefilter(\"ignore\")"
   ]
  },
  {
   "cell_type": "code",
   "execution_count": null,
   "id": "2acc7fabefec3c3d",
   "metadata": {
    "collapsed": false,
    "jupyter": {
     "outputs_hidden": false
    }
   },
   "outputs": [],
   "source": [
    "for i in range(10):\n",
    "    result = algo.train()\n",
    "    print(result)"
   ]
  },
  {
   "cell_type": "code",
   "execution_count": 8,
   "id": "3e29fb44207b9708",
   "metadata": {
    "collapsed": false,
    "jupyter": {
     "outputs_hidden": false
    }
   },
   "outputs": [],
   "source": [
    "ray.shutdown()"
   ]
  }
 ],
 "metadata": {
  "kernelspec": {
   "display_name": "Python 3 (ipykernel)",
   "language": "python",
   "name": "python3"
  },
  "language_info": {
   "codemirror_mode": {
    "name": "ipython",
    "version": 3
   },
   "file_extension": ".py",
   "mimetype": "text/x-python",
   "name": "python",
   "nbconvert_exporter": "python",
   "pygments_lexer": "ipython3",
   "version": "3.11.8"
  }
 },
 "nbformat": 4,
 "nbformat_minor": 5
}
