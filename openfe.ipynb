{
 "cells": [
  {
   "cell_type": "code",
   "execution_count": null,
   "metadata": {},
   "outputs": [],
   "source": [
    "from openfe import OpenFE, tree_to_formula\n",
    "import pandas as pd\n",
    "import matplotlib.pyplot as plt"
   ]
  },
  {
   "cell_type": "code",
   "execution_count": null,
   "metadata": {},
   "outputs": [],
   "source": [
    "\n",
    "def label_dataset():\n",
    "    df = pd.read_pickle(\"./data/train/year/2022-1m.pkl\")\n",
    "    df['position'] = 0\n",
    "    \n",
    "    for interval, group in df.resample('12H'):\n",
    "        if not group.empty:\n",
    "            max_idx = group['close'].idxmax()\n",
    "            min_idx = group['close'].idxmin()\n",
    "            \n",
    "            df.at[max_idx, 'position'] = -1\n",
    "            df.at[min_idx, 'position'] = 1\n",
    "    \n",
    "    return df\n"
   ]
  },
  {
   "cell_type": "code",
   "execution_count": null,
   "metadata": {},
   "outputs": [],
   "source": [
    "def plot_data(df):\n",
    "    plt.figure(figsize=(14, 7))\n",
    "    plt.plot(df.index, df['close'], label='Close', color='gray', alpha=0.7)\n",
    "\n",
    "    long_positions = df[df['position'] == 1]\n",
    "    plt.scatter(long_positions.index, long_positions['close'], color='green', label='Long', marker='^', s=100)\n",
    "\n",
    "    short_positions = df[df['position'] == -2]\n",
    "    plt.scatter(short_positions.index, short_positions['close'], color='red', label='Short', marker='v', s=100)\n",
    "\n",
    "    plt.title('Price Data with Long and Short Positions')\n",
    "    plt.xlabel('Date')\n",
    "    plt.ylabel('Price')\n",
    "    plt.legend()\n",
    "\n",
    "    plt.show()"
   ]
  },
  {
   "cell_type": "code",
   "execution_count": null,
   "metadata": {},
   "outputs": [],
   "source": [
    "def find_features(df):\n",
    "    ofe = OpenFE()\n",
    "    features = ofe.fit(\n",
    "        task=\"regression\",\n",
    "        data=df,\n",
    "        label=df['position'],\n",
    "        verbose=False,\n",
    "        n_jobs=10,\n",
    "        )\n",
    "\n",
    "    for feature in ofe.new_features_list[:10]:\n",
    "        print(tree_to_formula(feature))"
   ]
  },
  {
   "cell_type": "code",
   "execution_count": null,
   "metadata": {},
   "outputs": [],
   "source": [
    "df = label_dataset()"
   ]
  },
  {
   "cell_type": "code",
   "execution_count": null,
   "metadata": {},
   "outputs": [],
   "source": [
    "plot_data(df)"
   ]
  },
  {
   "cell_type": "code",
   "execution_count": null,
   "metadata": {},
   "outputs": [],
   "source": [
    "find_features(df)\n",
    "\n",
    "\"\"\"\n",
    "[month]\n",
    "GroupByThenMin(open,position)\n",
    "GroupByThenRank(volume,position)\n",
    "min(low,volume)\n",
    "round(volume)\n",
    "(high*volume)\n",
    "(close*volume)\n",
    "(low*volume)\n",
    "(close/volume)\n",
    "(high-low)\n",
    "(open*volume)\n",
    "\n",
    "[year]\n",
    "GroupByThenStd(high,position)\n",
    "GroupByThenMin(open,position)\n",
    "GroupByThenRank(volume,position)\n",
    "(close*volume)\n",
    "(low*volume)\n",
    "(open*volume)\n",
    "sigmoid(volume)\n",
    "log(volume)\n",
    "(high/low)\n",
    "sqrt(volume)\n",
    "\n",
    "???\n",
    "round(open)\n",
    "(close+volume)\n",
    "(high+position)\n",
    "min(high,low)\n",
    "(high+low)\n",
    "(high/close)\n",
    "(open-high)\n",
    "(open*low)\n",
    "(open+low)\n",
    "freq(low)\n",
    "\"\"\""
   ]
  },
  {
   "cell_type": "code",
   "execution_count": null,
   "metadata": {},
   "outputs": [],
   "source": []
  }
 ],
 "metadata": {
  "kernelspec": {
   "display_name": ".venv",
   "language": "python",
   "name": "python3"
  },
  "language_info": {
   "codemirror_mode": {
    "name": "ipython",
    "version": 3
   },
   "file_extension": ".py",
   "mimetype": "text/x-python",
   "name": "python",
   "nbconvert_exporter": "python",
   "pygments_lexer": "ipython3",
   "version": "3.11.8"
  }
 },
 "nbformat": 4,
 "nbformat_minor": 2
}
